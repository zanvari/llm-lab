{
 "cells": [
  {
   "cell_type": "markdown",
   "id": "178f9374",
   "metadata": {},
   "source": [
    "# 🧠 Visualizing BERT NER Predictions\n",
    "\n",
    "This notebook loads a fine-tuned BERT model and displays entity predictions for custom input sentences."
   ]
  },
  {
   "cell_type": "markdown",
   "id": "dc9def89",
   "metadata": {},
   "source": [
    "## 📦 Load model and tokenizer"
   ]
  },
  {
   "cell_type": "code",
   "execution_count": null,
   "id": "219d8dd6",
   "metadata": {},
   "outputs": [],
   "source": [
    "from transformers import AutoTokenizer, AutoModelForTokenClassification\n",
    "import torch\n",
    "\n",
    "label_list = ['O', 'B-MISC', 'I-MISC', 'B-PER', 'I-PER', 'B-ORG', 'I-ORG', 'B-LOC', 'I-LOC']\n",
    "model = AutoModelForTokenClassification.from_pretrained(\"../outputs/bert-ner\")\n",
    "tokenizer = AutoTokenizer.from_pretrained(\"bert-base-cased\")"
   ]
  },
  {
   "cell_type": "markdown",
   "id": "90fde950",
   "metadata": {},
   "source": [
    "## 📝 Enter sentence to analyze"
   ]
  },
  {
   "cell_type": "code",
   "execution_count": null,
   "id": "bb3f4ab3",
   "metadata": {},
   "outputs": [],
   "source": [
    "sentence = \"Barack Obama visited New York City to meet United Nations officials.\" "
   ]
  },
  {
   "cell_type": "markdown",
   "id": "70be454c",
   "metadata": {},
   "source": [
    "## 🔍 Predict and highlight entities"
   ]
  },
  {
   "cell_type": "code",
   "execution_count": null,
   "id": "8031e77b",
   "metadata": {},
   "outputs": [],
   "source": [
    "inputs = tokenizer(sentence, return_tensors=\"pt\")\n",
    "outputs = model(**inputs).logits\n",
    "predictions = torch.argmax(outputs, dim=2)[0]\n",
    "\n",
    "tokens = tokenizer.convert_ids_to_tokens(inputs[\"input_ids\"][0])[1:-1]\n",
    "labels = [label_list[pred.item()] for pred in predictions[1:-1]]\n",
    "\n",
    "print(\"Token - Label\")\n",
    "for token, label in zip(tokens, labels):\n",
    "    print(f\"{token:10s} -> {label}\")"
   ]
  },
  {
   "cell_type": "markdown",
   "id": "bb05d0db",
   "metadata": {},
   "source": [
    "## 🎨 Optional: Color-code entity predictions (HTML)"
   ]
  },
  {
   "cell_type": "code",
   "execution_count": null,
   "id": "74e55813",
   "metadata": {},
   "outputs": [],
   "source": [
    "from IPython.display import HTML, display\n",
    "\n",
    "html = \"\"\n",
    "for token, label in zip(tokens, labels):\n",
    "    if label != 'O':\n",
    "        html += f\"<span style='background-color: #ffd54f; padding:2px; margin:1px;'>{token} <sub>{label}</sub></span> \"\n",
    "    else:\n",
    "        html += f\"{token} \"\n",
    "\n",
    "display(HTML(html))"
   ]
  }
 ],
 "metadata": {},
 "nbformat": 4,
 "nbformat_minor": 5
}
