{
 "cells": [
  {
   "cell_type": "markdown",
   "id": "12766001",
   "metadata": {},
   "source": [
    "\n",
    "# 🧠 Few-Shot Document Classification with LLMs\n",
    "\n",
    "This notebook demonstrates how to classify documents into predefined categories using **few-shot prompting** with OpenAI's GPT-3.5 model. This approach is useful when you:\n",
    "- Don't have enough labeled data for training\n",
    "- Want to quickly prototype classification behavior using LLMs\n"
   ]
  },
  {
   "cell_type": "code",
   "execution_count": null,
   "id": "4f9495ff",
   "metadata": {},
   "outputs": [],
   "source": [
    "!pip install openai langchain tiktoken"
   ]
  },
  {
   "cell_type": "markdown",
   "id": "e84d3b9d",
   "metadata": {},
   "source": [
    "## 📦 Import Libraries"
   ]
  },
  {
   "cell_type": "code",
   "execution_count": null,
   "id": "427d79ae",
   "metadata": {},
   "outputs": [],
   "source": [
    "\n",
    "import os\n",
    "from dotenv import load_dotenv\n",
    "from langchain.chat_models import ChatOpenAI\n",
    "from langchain.prompts import PromptTemplate\n",
    "\n",
    "load_dotenv()\n"
   ]
  },
  {
   "cell_type": "markdown",
   "id": "7adfd513",
   "metadata": {},
   "source": [
    "## 🔍 Few-Shot Training Examples\n",
    "We’ll use 5 representative labeled samples."
   ]
  },
  {
   "cell_type": "code",
   "execution_count": null,
   "id": "b5e21e5c",
   "metadata": {},
   "outputs": [],
   "source": [
    "\n",
    "fewshot_examples = [\n",
    "    {\"text\": \"This document is an agreement between two parties regarding software services.\", \"label\": \"contract\"},\n",
    "    {\"text\": \"Invoice No: 12345. Amount due: $500. Due Date: July 1, 2024.\", \"label\": \"invoice\"},\n",
    "    {\"text\": \"Name: John Smith. Medical diagnosis: Hypertension. Treatment: Medication.\", \"label\": \"medical_report\"},\n",
    "    {\"text\": \"Dear Mr. Johnson, Please find attached the proposal for your review.\", \"label\": \"letter\"},\n",
    "    {\"text\": \"Claim ID: 78910. Policy Number: XZ-456. Claimed amount: $2000.\", \"label\": \"insurance_form\"}\n",
    "]\n"
   ]
  },
  {
   "cell_type": "markdown",
   "id": "406052df",
   "metadata": {},
   "source": [
    "## ✍️ Prompt Template\n",
    "We define the structure of our prompt using the few-shot examples."
   ]
  },
  {
   "cell_type": "code",
   "execution_count": null,
   "id": "4c09347f",
   "metadata": {},
   "outputs": [],
   "source": [
    "\n",
    "prompt_template = \"\"\"\n",
    "You are an intelligent document classifier. Classify the following document into one of the categories: contract, invoice, medical_report, letter, insurance_form.\n",
    "\n",
    "Use the examples below for reference:\n",
    "\n",
    "{examples}\n",
    "\n",
    "Document:\n",
    "\"\"\"{doc}\"\"\"\n",
    "\n",
    "Label:\n",
    "\"\"\"\n"
   ]
  },
  {
   "cell_type": "markdown",
   "id": "f02dc8c9",
   "metadata": {},
   "source": [
    "## 🧱 Prompt Constructor\n",
    "This will format the input document with our examples."
   ]
  },
  {
   "cell_type": "code",
   "execution_count": null,
   "id": "b3f5eccf",
   "metadata": {},
   "outputs": [],
   "source": [
    "\n",
    "example_blocks = \"\\n\\n\".join([\n",
    "    f\"Document:\\n{ex['text']}\\nLabel: {ex['label']}\"\n",
    "    for ex in fewshot_examples\n",
    "])\n",
    "\n",
    "def build_prompt(doc_text):\n",
    "    return prompt_template.format(examples=example_blocks, doc=doc_text)\n"
   ]
  },
  {
   "cell_type": "markdown",
   "id": "221ff573",
   "metadata": {},
   "source": [
    "## 🧠 Load LLM\n",
    "We use OpenAI GPT-3.5 via LangChain's `ChatOpenAI` interface."
   ]
  },
  {
   "cell_type": "code",
   "execution_count": null,
   "id": "7030a0c6",
   "metadata": {},
   "outputs": [],
   "source": [
    "\n",
    "llm = ChatOpenAI(model_name=\"gpt-3.5-turbo\", temperature=0)\n"
   ]
  },
  {
   "cell_type": "markdown",
   "id": "279e8c0a",
   "metadata": {},
   "source": [
    "## 🧪 Classify a Single Example"
   ]
  },
  {
   "cell_type": "code",
   "execution_count": null,
   "id": "95bfa5a3",
   "metadata": {},
   "outputs": [],
   "source": [
    "\n",
    "example_doc = \"Policyholder: Jane Doe. Total amount claimed: $1200. Date of incident: 01/02/2024.\"\n",
    "prompt = build_prompt(example_doc)\n",
    "response = llm.predict(prompt)\n",
    "\n",
    "print(\"Document:\", example_doc)\n",
    "print(\"Predicted Label:\", response.strip())\n"
   ]
  },
  {
   "cell_type": "markdown",
   "id": "d542e311",
   "metadata": {},
   "source": [
    "## 📊 Classify a Batch of Documents"
   ]
  },
  {
   "cell_type": "code",
   "execution_count": null,
   "id": "7d4b15bc",
   "metadata": {},
   "outputs": [],
   "source": [
    "\n",
    "test_docs = [\n",
    "    \"Total billed: $800. Due by August 1. Invoice No. 54321.\",\n",
    "    \"This memo outlines project milestones and team assignments.\",\n",
    "    \"Dear Ms. Lee, Thank you for your application. We will be in touch.\"\n",
    "]\n",
    "\n",
    "for doc in test_docs:\n",
    "    result = llm.predict(build_prompt(doc))\n",
    "    print(\"\\nDoc:\", doc)\n",
    "    print(\"Label:\", result.strip())\n"
   ]
  },
  {
   "cell_type": "markdown",
   "id": "2d29648b",
   "metadata": {},
   "source": [
    "\n",
    "## ✅ Summary\n",
    "\n",
    "You’ve just built a few-shot document classifier using GPT-3.5 and LangChain with no fine-tuning required.\n",
    "\n",
    "This is a powerful method for:\n",
    "- Quick prototyping of document understanding pipelines\n",
    "- Exploring LLM-based classification without large datasets\n",
    "- Creating intelligent routing logic for document processing systems\n"
   ]
  }
 ],
 "metadata": {},
 "nbformat": 4,
 "nbformat_minor": 5
}
