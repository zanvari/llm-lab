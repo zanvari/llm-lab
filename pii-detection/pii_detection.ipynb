{
 "cells": [
  {
   "cell_type": "markdown",
   "id": "2f76fb77",
   "metadata": {},
   "source": [
    "# 🔐 PII Detection Playground\n",
    "\n",
    "Detect personally identifiable information (PII) using NER models and LLMs."
   ]
  },
  {
   "cell_type": "markdown",
   "id": "bf726ff7",
   "metadata": {},
   "source": [
    "## 📄 Load Sample Document"
   ]
  },
  {
   "cell_type": "code",
   "execution_count": null,
   "id": "f8b3fbad",
   "metadata": {},
   "outputs": [],
   "source": [
    "with open(\"data/sample_doc.txt\") as f:\n",
    "    doc_text = f.read()\n",
    "\n",
    "print(doc_text)\n"
   ]
  },
  {
   "cell_type": "markdown",
   "id": "b6797e52",
   "metadata": {},
   "source": [
    "## 🤖 Detect PII with spaCy NER"
   ]
  },
  {
   "cell_type": "code",
   "execution_count": null,
   "id": "d5b89f4c",
   "metadata": {},
   "outputs": [],
   "source": [
    "import spacy\n",
    "\n",
    "nlp = spacy.load(\"en_core_web_sm\")\n",
    "doc = nlp(doc_text)\n",
    "\n",
    "for ent in doc.ents:\n",
    "    if ent.label_ in [\"PERSON\", \"ORG\", \"GPE\", \"EMAIL\", \"DATE\"]:\n",
    "        print(f\"{ent.text} ({ent.label_})\")\n"
   ]
  },
  {
   "cell_type": "markdown",
   "id": "ed9ee763",
   "metadata": {},
   "source": [
    "## 🧠 Detect PII with LLM (Zero-Shot Prompting)"
   ]
  },
  {
   "cell_type": "code",
   "execution_count": null,
   "id": "8742bccf",
   "metadata": {},
   "outputs": [],
   "source": [
    "from openai import OpenAI\n",
    "openai = OpenAI()\n",
    "\n",
    "prompt = f\"\"\"Identify and list all PII from the text below:\n",
    "\n",
    "Text:\n",
    "{doc_text}\n",
    "\n",
    "List PII items only:\n",
    "\"\"\"\n",
    "\n",
    "response = openai.chat.completions.create(\n",
    "    model=\"gpt-4\",\n",
    "    messages=[{\"role\": \"user\", \"content\": prompt}]\n",
    ")\n",
    "\n",
    "print(response.choices[0].message.content.strip())\n"
   ]
  }
 ],
 "metadata": {},
 "nbformat": 4,
 "nbformat_minor": 5
}
