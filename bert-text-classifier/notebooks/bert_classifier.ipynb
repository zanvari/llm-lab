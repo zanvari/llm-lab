{
 "cells": [
  {
   "cell_type": "markdown",
   "id": "146460dc",
   "metadata": {},
   "source": [
    "# 🧠 BERT Text Classification\n",
    "Fine-tune BERT for text classification using HuggingFace Transformers."
   ]
  },
  {
   "cell_type": "markdown",
   "id": "fee9c97b",
   "metadata": {},
   "source": [
    "## 📦 Install dependencies"
   ]
  },
  {
   "cell_type": "code",
   "execution_count": null,
   "id": "59217357",
   "metadata": {},
   "outputs": [],
   "source": [
    "!pip install transformers datasets scikit-learn torch"
   ]
  },
  {
   "cell_type": "markdown",
   "id": "c873d95e",
   "metadata": {},
   "source": [
    "## 🔍 Load dataset"
   ]
  },
  {
   "cell_type": "code",
   "execution_count": null,
   "id": "4d763102",
   "metadata": {},
   "outputs": [],
   "source": [
    "from datasets import load_dataset\n",
    "\n",
    "# Load IMDb for binary classification or switch to AG News for multi-class\n",
    "dataset = load_dataset('imdb')\n",
    "dataset = dataset.shuffle(seed=42)\n",
    "dataset['train'][0]"
   ]
  },
  {
   "cell_type": "markdown",
   "id": "3c6c9024",
   "metadata": {},
   "source": [
    "## 🧹 Preprocess text"
   ]
  },
  {
   "cell_type": "code",
   "execution_count": null,
   "id": "6132ab35",
   "metadata": {},
   "outputs": [],
   "source": [
    "from transformers import BertTokenizer\n",
    "\n",
    "tokenizer = BertTokenizer.from_pretrained('bert-base-uncased')\n",
    "\n",
    "def tokenize(batch):\n",
    "    return tokenizer(batch['text'], padding=True, truncation=True)\n",
    "\n",
    "encoded = dataset.map(tokenize, batched=True)\n",
    "encoded.set_format('torch', columns=['input_ids', 'attention_mask', 'label'])"
   ]
  },
  {
   "cell_type": "markdown",
   "id": "d2b878e6",
   "metadata": {},
   "source": [
    "## 🧠 Define model"
   ]
  },
  {
   "cell_type": "code",
   "execution_count": null,
   "id": "b7732c4c",
   "metadata": {},
   "outputs": [],
   "source": [
    "from transformers import BertForSequenceClassification\n",
    "\n",
    "model = BertForSequenceClassification.from_pretrained('bert-base-uncased', num_labels=2)"
   ]
  },
  {
   "cell_type": "markdown",
   "id": "491d3ee7",
   "metadata": {},
   "source": [
    "## 🏋️ Fine-tune"
   ]
  },
  {
   "cell_type": "code",
   "execution_count": null,
   "id": "7917dd37",
   "metadata": {},
   "outputs": [],
   "source": [
    "from transformers import TrainingArguments, Trainer\n",
    "import numpy as np\n",
    "from sklearn.metrics import accuracy_score, f1_score\n",
    "\n",
    "def compute_metrics(pred):\n",
    "    labels = pred.label_ids\n",
    "    preds = np.argmax(pred.predictions, axis=1)\n",
    "    return {\n",
    "        'accuracy': accuracy_score(labels, preds),\n",
    "        'f1': f1_score(labels, preds)\n",
    "    }\n",
    "\n",
    "args = TrainingArguments(\n",
    "    output_dir='bert-output',\n",
    "    evaluation_strategy='epoch',\n",
    "    per_device_train_batch_size=16,\n",
    "    per_device_eval_batch_size=64,\n",
    "    num_train_epochs=1,\n",
    "    weight_decay=0.01,\n",
    "    logging_steps=10,\n",
    "    save_total_limit=1,\n",
    ")\n",
    "\n",
    "trainer = Trainer(\n",
    "    model=model,\n",
    "    args=args,\n",
    "    train_dataset=encoded['train'].select(range(1000)),  # use a subset for speed\n",
    "    eval_dataset=encoded['test'].select(range(500)),\n",
    "    compute_metrics=compute_metrics,\n",
    ")\n",
    "\n",
    "trainer.train()"
   ]
  },
  {
   "cell_type": "markdown",
   "id": "634787d3",
   "metadata": {},
   "source": [
    "## 📈 Evaluate"
   ]
  },
  {
   "cell_type": "code",
   "execution_count": null,
   "id": "e7518f69",
   "metadata": {},
   "outputs": [],
   "source": [
    "metrics = trainer.evaluate()\n",
    "print(metrics)"
   ]
  },
  {
   "cell_type": "markdown",
   "id": "55c9a737",
   "metadata": {},
   "source": [
    "## 🔮 Predict on new text"
   ]
  },
  {
   "cell_type": "code",
   "execution_count": null,
   "id": "4e462e83",
   "metadata": {},
   "outputs": [],
   "source": [
    "text = \"This movie was fantastic!\"\n",
    "inputs = tokenizer(text, return_tensors=\"pt\", truncation=True, padding=True)\n",
    "outputs = model(**inputs)\n",
    "label = torch.argmax(outputs.logits).item()\n",
    "print(\"Predicted label:\", label)"
   ]
  }
 ],
 "metadata": {},
 "nbformat": 4,
 "nbformat_minor": 5
}
