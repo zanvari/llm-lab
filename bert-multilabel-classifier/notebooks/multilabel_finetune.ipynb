{
 "cells": [
  {
   "cell_type": "markdown",
   "id": "be2e60ca",
   "metadata": {},
   "source": [
    "# 🧷 BERT Multi-label Text Classification\n",
    "Fine-tune BERT to classify documents into multiple categories using sigmoid output and binary cross-entropy loss."
   ]
  },
  {
   "cell_type": "markdown",
   "id": "8911378f",
   "metadata": {},
   "source": [
    "## 📦 Install Dependencies"
   ]
  },
  {
   "cell_type": "code",
   "execution_count": null,
   "id": "a8ce29be",
   "metadata": {},
   "outputs": [],
   "source": [
    "!pip install -q transformers datasets scikit-learn torch"
   ]
  },
  {
   "cell_type": "markdown",
   "id": "e23842a0",
   "metadata": {},
   "source": [
    "## 📚 Sample Dataset\n",
    "We simulate a multi-label dataset here. Replace this with your actual dataset."
   ]
  },
  {
   "cell_type": "code",
   "execution_count": null,
   "id": "0ed4d781",
   "metadata": {},
   "outputs": [],
   "source": [
    "import pandas as pd\n",
    "df = pd.DataFrame({\n",
    "    \"text\": [\n",
    "        \"This contract involves legal and financial terms.\",\n",
    "        \"Patient records and insurance details are discussed.\",\n",
    "        \"Project timeline and scope management.\",\n",
    "        \"Quarterly financial report with budget updates.\"\n",
    "    ],\n",
    "    \"labels\": [\n",
    "        [\"legal\", \"finance\"],\n",
    "        [\"healthcare\", \"insurance\"],\n",
    "        [\"project_management\"],\n",
    "        [\"finance\"]\n",
    "    ]\n",
    "})\n",
    "df"
   ]
  },
  {
   "cell_type": "markdown",
   "id": "3c6493c9",
   "metadata": {},
   "source": [
    "## 🏷️ Encode Multi-labels"
   ]
  },
  {
   "cell_type": "code",
   "execution_count": null,
   "id": "28a4b4f3",
   "metadata": {},
   "outputs": [],
   "source": [
    "from sklearn.preprocessing import MultiLabelBinarizer\n",
    "mlb = MultiLabelBinarizer()\n",
    "label_matrix = mlb.fit_transform(df[\"labels\"])\n",
    "label_matrix, mlb.classes_"
   ]
  },
  {
   "cell_type": "markdown",
   "id": "44d29676",
   "metadata": {},
   "source": [
    "## 🔤 Tokenize Text"
   ]
  },
  {
   "cell_type": "code",
   "execution_count": null,
   "id": "7e52e6f6",
   "metadata": {},
   "outputs": [],
   "source": [
    "from transformers import AutoTokenizer\n",
    "tokenizer = AutoTokenizer.from_pretrained(\"bert-base-uncased\")\n",
    "\n",
    "encodings = tokenizer(list(df[\"text\"]), truncation=True, padding=True)\n",
    "import torch\n",
    "class MultiLabelDataset(torch.utils.data.Dataset):\n",
    "    def __init__(self, encodings, labels):\n",
    "        self.encodings = encodings\n",
    "        self.labels = labels\n",
    "    def __getitem__(self, idx):\n",
    "        return {key: torch.tensor(val[idx]) for key, val in self.encodings.items()} | {\n",
    "            \"labels\": torch.tensor(self.labels[idx], dtype=torch.float)\n",
    "        }\n",
    "    def __len__(self):\n",
    "        return len(self.labels)\n",
    "\n",
    "dataset = MultiLabelDataset(encodings, label_matrix)"
   ]
  },
  {
   "cell_type": "markdown",
   "id": "7d979c95",
   "metadata": {},
   "source": [
    "## 🧠 Fine-tune BERT"
   ]
  },
  {
   "cell_type": "code",
   "execution_count": null,
   "id": "a2af85ba",
   "metadata": {},
   "outputs": [],
   "source": [
    "from transformers import AutoModelForSequenceClassification, TrainingArguments, Trainer\n",
    "\n",
    "model = AutoModelForSequenceClassification.from_pretrained(\n",
    "    \"bert-base-uncased\",\n",
    "    num_labels=len(mlb.classes_),\n",
    "    problem_type=\"multi_label_classification\"\n",
    ")\n",
    "\n",
    "args = TrainingArguments(\n",
    "    output_dir=\"./outputs\",\n",
    "    per_device_train_batch_size=2,\n",
    "    num_train_epochs=5,\n",
    "    logging_dir=\"./logs\",\n",
    "    evaluation_strategy=\"no\"\n",
    ")\n",
    "\n",
    "trainer = Trainer(\n",
    "    model=model,\n",
    "    args=args,\n",
    "    train_dataset=dataset\n",
    ")\n",
    "\n",
    "trainer.train()"
   ]
  },
  {
   "cell_type": "markdown",
   "id": "4ca0c6e0",
   "metadata": {},
   "source": [
    "## 🔍 Inference"
   ]
  },
  {
   "cell_type": "code",
   "execution_count": null,
   "id": "d664c723",
   "metadata": {},
   "outputs": [],
   "source": [
    "def predict(text):\n",
    "    inputs = tokenizer(text, return_tensors=\"pt\", truncation=True, padding=True)\n",
    "    with torch.no_grad():\n",
    "        logits = model(**inputs).logits\n",
    "    probs = torch.sigmoid(logits).squeeze().tolist()\n",
    "    return [mlb.classes_[i] for i, p in enumerate(probs) if p >= 0.5]\n",
    "\n",
    "predict(\"The document includes both legal obligations and financial clauses.\")"
   ]
  }
 ],
 "metadata": {},
 "nbformat": 4,
 "nbformat_minor": 5
}
