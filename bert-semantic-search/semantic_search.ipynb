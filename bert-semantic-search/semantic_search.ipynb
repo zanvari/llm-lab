{
 "cells": [
  {
   "cell_type": "markdown",
   "id": "918d58a4",
   "metadata": {},
   "source": [
    "# 🔍 BERT Semantic Search\n",
    "\n",
    "This notebook demonstrates how to build a semantic search engine using BERT-based embeddings via `sentence-transformers`, FAISS for fast retrieval, and a small sample corpus.\n"
   ]
  },
  {
   "cell_type": "markdown",
   "id": "9ca1f472",
   "metadata": {},
   "source": [
    "## 1️⃣ Install & Import Libraries"
   ]
  },
  {
   "cell_type": "code",
   "execution_count": null,
   "id": "abf61314",
   "metadata": {},
   "outputs": [],
   "source": [
    "!pip install -q sentence-transformers faiss-cpu\n",
    "from sentence_transformers import SentenceTransformer\n",
    "import faiss\n",
    "import json\n",
    "import numpy as np\n",
    "import pandas as pd\n"
   ]
  },
  {
   "cell_type": "markdown",
   "id": "a8f9bf5c",
   "metadata": {},
   "source": [
    "## 2️⃣ Load Corpus"
   ]
  },
  {
   "cell_type": "code",
   "execution_count": null,
   "id": "dda12984",
   "metadata": {},
   "outputs": [],
   "source": [
    "# Load sample corpus\n",
    "with open('data/corpus.json') as f:\n",
    "    corpus = json.load(f)\n",
    "texts = [item['text'] for item in corpus]\n",
    "ids = [item['id'] for item in corpus]\n",
    "pd.DataFrame(corpus)"
   ]
  },
  {
   "cell_type": "markdown",
   "id": "0f1f145b",
   "metadata": {},
   "source": [
    "## 3️⃣ Encode Corpus with Sentence-BERT"
   ]
  },
  {
   "cell_type": "code",
   "execution_count": null,
   "id": "78f29dc5",
   "metadata": {},
   "outputs": [],
   "source": [
    "model = SentenceTransformer('all-MiniLM-L6-v2')\n",
    "embeddings = model.encode(texts, convert_to_numpy=True, normalize_embeddings=True)\n",
    "embeddings.shape"
   ]
  },
  {
   "cell_type": "markdown",
   "id": "758aa4d9",
   "metadata": {},
   "source": [
    "## 4️⃣ Build FAISS Index"
   ]
  },
  {
   "cell_type": "code",
   "execution_count": null,
   "id": "3a3325ec",
   "metadata": {},
   "outputs": [],
   "source": [
    "dimension = embeddings.shape[1]\n",
    "index = faiss.IndexFlatIP(dimension)  # Inner product for cosine similarity\n",
    "index.add(embeddings)"
   ]
  },
  {
   "cell_type": "markdown",
   "id": "4f0ec828",
   "metadata": {},
   "source": [
    "## 5️⃣ Perform a Search Query"
   ]
  },
  {
   "cell_type": "code",
   "execution_count": null,
   "id": "bec7699a",
   "metadata": {},
   "outputs": [],
   "source": [
    "query = \"How can I claim health insurance?\"\n",
    "query_vec = model.encode([query], convert_to_numpy=True, normalize_embeddings=True)\n",
    "D, I = index.search(query_vec, k=3)  # top 3 results\n",
    "results = [(corpus[i]['text'], float(D[0][j])) for j, i in enumerate(I[0])]\n",
    "for text, score in results:\n",
    "    print(f\"Score: {score:.4f} | Text: {text}\")"
   ]
  }
 ],
 "metadata": {
  "kernelspec": {
   "display_name": "Python 3",
   "language": "python",
   "name": "python3"
  },
  "language_info": {
   "name": "python",
   "version": "3.10"
  }
 },
 "nbformat": 4,
 "nbformat_minor": 5
}
