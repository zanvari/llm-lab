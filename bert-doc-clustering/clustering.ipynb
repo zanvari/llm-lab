{
 "cells": [
  {
   "cell_type": "markdown",
   "id": "36ed190d",
   "metadata": {},
   "source": [
    "# 📊 BERT-Based Document Clustering\n",
    "\n",
    "This notebook demonstrates how to cluster documents using sentence embeddings and visualize the results."
   ]
  },
  {
   "cell_type": "code",
   "execution_count": null,
   "id": "02353cef",
   "metadata": {},
   "outputs": [],
   "source": [
    "import json\n",
    "import numpy as np\n",
    "from sklearn.cluster import KMeans, AgglomerativeClustering\n",
    "from sklearn.metrics import silhouette_score\n",
    "from sentence_transformers import SentenceTransformer\n",
    "import matplotlib.pyplot as plt\n",
    "import seaborn as sns\n",
    "import umap\n",
    "\n",
    "sns.set(style=\"whitegrid\")\n"
   ]
  },
  {
   "cell_type": "code",
   "execution_count": null,
   "id": "dffb39df",
   "metadata": {},
   "outputs": [],
   "source": [
    "with open(\"data/documents.json\") as f:\n",
    "    docs = json.load(f)\n",
    "\n",
    "texts = [doc[\"text\"] for doc in docs]\n",
    "ids = [doc[\"id\"] for doc in docs]\n",
    "print(f\"Loaded {len(texts)} documents.\")\n"
   ]
  },
  {
   "cell_type": "markdown",
   "id": "ae18d297",
   "metadata": {},
   "source": [
    "## 🧠 Generate Embeddings with Sentence-BERT"
   ]
  },
  {
   "cell_type": "code",
   "execution_count": null,
   "id": "e19c7890",
   "metadata": {},
   "outputs": [],
   "source": [
    "model = SentenceTransformer(\"all-MiniLM-L6-v2\")\n",
    "embeddings = model.encode(texts, convert_to_numpy=True, normalize_embeddings=True)\n",
    "embeddings.shape\n"
   ]
  },
  {
   "cell_type": "markdown",
   "id": "264998a2",
   "metadata": {},
   "source": [
    "## 🔹 KMeans Clustering"
   ]
  },
  {
   "cell_type": "code",
   "execution_count": null,
   "id": "e581e82c",
   "metadata": {},
   "outputs": [],
   "source": [
    "kmeans = KMeans(n_clusters=3, random_state=42)\n",
    "kmeans_labels = kmeans.fit_predict(embeddings)\n",
    "\n",
    "for i, label in enumerate(kmeans_labels):\n",
    "    print(f\"[Cluster {label}] {texts[i]}\")\n"
   ]
  },
  {
   "cell_type": "code",
   "execution_count": null,
   "id": "627a7743",
   "metadata": {},
   "outputs": [],
   "source": [
    "score = silhouette_score(embeddings, kmeans_labels)\n",
    "print(f\"Silhouette Score: {score:.4f}\")\n"
   ]
  },
  {
   "cell_type": "markdown",
   "id": "732e7474",
   "metadata": {},
   "source": [
    "## 📈 Visualize with UMAP"
   ]
  },
  {
   "cell_type": "code",
   "execution_count": null,
   "id": "b20b5c2a",
   "metadata": {},
   "outputs": [],
   "source": [
    "reducer = umap.UMAP(n_neighbors=5, min_dist=0.3, metric='cosine', random_state=42)\n",
    "embedding_2d = reducer.fit_transform(embeddings)\n",
    "\n",
    "plt.figure(figsize=(8, 6))\n",
    "sns.scatterplot(x=embedding_2d[:,0], y=embedding_2d[:,1], hue=kmeans_labels, palette=\"Set2\", s=80)\n",
    "plt.title(\"UMAP projection of clustered docs\")\n",
    "plt.show()\n"
   ]
  },
  {
   "cell_type": "markdown",
   "id": "7996eea4",
   "metadata": {},
   "source": [
    "## 🧬 Agglomerative Clustering (Optional)"
   ]
  },
  {
   "cell_type": "code",
   "execution_count": null,
   "id": "9e7e5277",
   "metadata": {},
   "outputs": [],
   "source": [
    "agglo = AgglomerativeClustering(n_clusters=3, affinity='cosine', linkage='average')\n",
    "agglo_labels = agglo.fit_predict(embeddings)\n",
    "\n",
    "plt.figure(figsize=(8, 6))\n",
    "sns.scatterplot(x=embedding_2d[:,0], y=embedding_2d[:,1], hue=agglo_labels, palette=\"Set1\", s=80)\n",
    "plt.title(\"UMAP + Agglomerative Clustering\")\n",
    "plt.show()\n"
   ]
  }
 ],
 "metadata": {},
 "nbformat": 4,
 "nbformat_minor": 5
}
