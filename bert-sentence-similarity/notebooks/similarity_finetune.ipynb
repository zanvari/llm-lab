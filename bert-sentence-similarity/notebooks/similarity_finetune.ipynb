{
 "cells": [
  {
   "cell_type": "markdown",
   "id": "f98dc6f9",
   "metadata": {},
   "source": [
    "# 🔗 BERT Sentence Similarity\n",
    "Fine-tune a BERT model to predict similarity scores between sentence pairs using the STS-B dataset."
   ]
  },
  {
   "cell_type": "markdown",
   "id": "148b7017",
   "metadata": {},
   "source": [
    "## 📦 Install Dependencies"
   ]
  },
  {
   "cell_type": "code",
   "execution_count": null,
   "id": "1604fdc7",
   "metadata": {},
   "outputs": [],
   "source": [
    "!pip install -q transformers datasets scikit-learn"
   ]
  },
  {
   "cell_type": "markdown",
   "id": "47b3bcbe",
   "metadata": {},
   "source": [
    "## 📚 Load STS-B Dataset"
   ]
  },
  {
   "cell_type": "code",
   "execution_count": null,
   "id": "ff86cffd",
   "metadata": {},
   "outputs": [],
   "source": [
    "from datasets import load_dataset\n",
    "dataset = load_dataset(\"glue\", \"stsb\")\n",
    "dataset = dataset.map(lambda x: {\"label\": float(x[\"label\"]) / 5.0})  # Normalize to [0,1]\n",
    "dataset = dataset.remove_columns([\"idx\"])"
   ]
  },
  {
   "cell_type": "markdown",
   "id": "8bd94659",
   "metadata": {},
   "source": [
    "## 🔤 Tokenize Sentence Pairs"
   ]
  },
  {
   "cell_type": "code",
   "execution_count": null,
   "id": "0b5cea54",
   "metadata": {},
   "outputs": [],
   "source": [
    "from transformers import AutoTokenizer\n",
    "tokenizer = AutoTokenizer.from_pretrained(\"bert-base-uncased\")\n",
    "\n",
    "def tokenize(example):\n",
    "    return tokenizer(example[\"sentence1\"], example[\"sentence2\"], truncation=True, padding=\"max_length\")\n",
    "\n",
    "tokenized = dataset.map(tokenize, batched=True)\n",
    "tokenized.set_format(type=\"torch\", columns=[\"input_ids\", \"attention_mask\", \"label\"])"
   ]
  },
  {
   "cell_type": "markdown",
   "id": "c6ded32d",
   "metadata": {},
   "source": [
    "## 🧠 Fine-tune BERT"
   ]
  },
  {
   "cell_type": "code",
   "execution_count": null,
   "id": "48ebc2b0",
   "metadata": {},
   "outputs": [],
   "source": [
    "from transformers import AutoModelForSequenceClassification, TrainingArguments, Trainer\n",
    "model = AutoModelForSequenceClassification.from_pretrained(\"bert-base-uncased\", num_labels=1)\n",
    "\n",
    "training_args = TrainingArguments(\n",
    "    output_dir=\"./outputs\",\n",
    "    evaluation_strategy=\"epoch\",\n",
    "    learning_rate=2e-5,\n",
    "    per_device_train_batch_size=16,\n",
    "    per_device_eval_batch_size=16,\n",
    "    num_train_epochs=3,\n",
    "    weight_decay=0.01,\n",
    "    logging_dir=\"./logs\",\n",
    "    save_strategy=\"epoch\"\n",
    ")\n",
    "\n",
    "trainer = Trainer(\n",
    "    model=model,\n",
    "    args=training_args,\n",
    "    train_dataset=tokenized[\"train\"],\n",
    "    eval_dataset=tokenized[\"validation\"]\n",
    ")\n",
    "\n",
    "trainer.train()"
   ]
  },
  {
   "cell_type": "markdown",
   "id": "6e256fd6",
   "metadata": {},
   "source": [
    "## 📈 Evaluate on Validation Set"
   ]
  },
  {
   "cell_type": "code",
   "execution_count": null,
   "id": "91436bb7",
   "metadata": {},
   "outputs": [],
   "source": [
    "import numpy as np\n",
    "from scipy.stats import pearsonr, spearmanr\n",
    "\n",
    "preds = trainer.predict(tokenized[\"validation\"])\n",
    "pred_scores = preds.predictions.squeeze()\n",
    "labels = preds.label_ids\n",
    "\n",
    "print(\"Pearson:\", pearsonr(pred_scores, labels)[0])\n",
    "print(\"Spearman:\", spearmanr(pred_scores, labels)[0])"
   ]
  },
  {
   "cell_type": "markdown",
   "id": "fd2ec6ab",
   "metadata": {},
   "source": [
    "## 🔍 Inference Example"
   ]
  },
  {
   "cell_type": "code",
   "execution_count": null,
   "id": "19a6d2f9",
   "metadata": {},
   "outputs": [],
   "source": [
    "def compute_similarity(sent1, sent2):\n",
    "    tokens = tokenizer(sent1, sent2, return_tensors=\"pt\", truncation=True, padding=True)\n",
    "    with torch.no_grad():\n",
    "        output = model(**tokens)\n",
    "    return output.logits.item()\n",
    "\n",
    "compute_similarity(\"A man is walking a dog.\", \"A person is walking an animal.\")"
   ]
  }
 ],
 "metadata": {},
 "nbformat": 4,
 "nbformat_minor": 5
}
