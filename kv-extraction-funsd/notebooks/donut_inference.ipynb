{
 "cells": [
  {
   "cell_type": "markdown",
   "id": "e4ecbcbc",
   "metadata": {},
   "source": [
    "# 🍩 Donut Inference on FUNSD\n",
    "Run OCR-free key-value extraction on form images using a pretrained Donut model."
   ]
  },
  {
   "cell_type": "markdown",
   "id": "a1145be8",
   "metadata": {},
   "source": [
    "## 📦 Install Required Libraries"
   ]
  },
  {
   "cell_type": "code",
   "execution_count": null,
   "id": "c0207d31",
   "metadata": {},
   "outputs": [],
   "source": [
    "!pip install transformers accelerate opencv-python Pillow"
   ]
  },
  {
   "cell_type": "markdown",
   "id": "adb67388",
   "metadata": {},
   "source": [
    "## 🧠 Load Donut Pretrained Model"
   ]
  },
  {
   "cell_type": "code",
   "execution_count": null,
   "id": "b23c4611",
   "metadata": {},
   "outputs": [],
   "source": [
    "from transformers import DonutProcessor, VisionEncoderDecoderModel\n",
    "import torch\n",
    "\n",
    "processor = DonutProcessor.from_pretrained('naver-clova-ix/donut-base-finetuned-docvqa')\n",
    "model = VisionEncoderDecoderModel.from_pretrained('naver-clova-ix/donut-base-finetuned-docvqa')\n",
    "model.eval()"
   ]
  },
  {
   "cell_type": "markdown",
   "id": "133f0e06",
   "metadata": {},
   "source": [
    "## 🖼️ Load and Preprocess FUNSD Image"
   ]
  },
  {
   "cell_type": "code",
   "execution_count": null,
   "id": "9a66025b",
   "metadata": {},
   "outputs": [],
   "source": [
    "from PIL import Image\n",
    "import requests\n",
    "\n",
    "# Replace with your local FUNSD image path\n",
    "image_path = 'data/images/0000971160.png'\n",
    "image = Image.open(image_path).convert(\"RGB\")\n",
    "\n",
    "pixel_values = processor(images=image, return_tensors=\"pt\").pixel_values"
   ]
  },
  {
   "cell_type": "markdown",
   "id": "990022b3",
   "metadata": {},
   "source": [
    "## ❓ Ask a Question and Run Inference"
   ]
  },
  {
   "cell_type": "code",
   "execution_count": null,
   "id": "99f3ce1d",
   "metadata": {},
   "outputs": [],
   "source": [
    "task_prompt = '<s_docvqa><s_question>What are the key fields and their values?<s_answer>'\n",
    "inputs = processor.tokenizer(task_prompt, return_tensors='pt')\n",
    "\n",
    "with torch.no_grad():\n",
    "    outputs = model.generate(pixel_values, decoder_input_ids=inputs.input_ids, max_length=512)\n",
    "\n",
    "decoded = processor.batch_decode(outputs, skip_special_tokens=True)[0]\n",
    "print(\"🔍 Answer:\", decoded)"
   ]
  },
  {
   "cell_type": "markdown",
   "id": "1792af70",
   "metadata": {},
   "source": [
    "## 📊 Interpret Output"
   ]
  },
  {
   "cell_type": "code",
   "execution_count": null,
   "id": "8e6de7f2",
   "metadata": {},
   "outputs": [],
   "source": [
    "# Donut answers are unstructured; they require regex or parsing\n",
    "# Example post-processing: extracting key-value pairs from the output text\n",
    "import re\n",
    "\n",
    "kv_pairs = re.findall(r'\"(.*?)\"\\s*:\\s*\"(.*?)\"', decoded)\n",
    "for key, value in kv_pairs:\n",
    "    print(f\"{key.strip()} --> {value.strip()}\")"
   ]
  }
 ],
 "metadata": {},
 "nbformat": 4,
 "nbformat_minor": 5
}
