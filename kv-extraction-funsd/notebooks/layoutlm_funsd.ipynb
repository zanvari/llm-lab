{
 "cells": [
  {
   "cell_type": "markdown",
   "id": "bf2fa893",
   "metadata": {},
   "source": [
    "# 🧾 Key-Value Extraction with LayoutLM\n",
    "This notebook demonstrates how to preprocess the FUNSD dataset and fine-tune a LayoutLM model for key-value extraction."
   ]
  },
  {
   "cell_type": "markdown",
   "id": "e028ae69",
   "metadata": {},
   "source": [
    "## 📦 Install Required Libraries"
   ]
  },
  {
   "cell_type": "code",
   "execution_count": null,
   "id": "ef9dc297",
   "metadata": {},
   "outputs": [],
   "source": [
    "!pip install transformers datasets seqeval layoutparser opencv-python Pillow scikit-learn"
   ]
  },
  {
   "cell_type": "markdown",
   "id": "6121880c",
   "metadata": {},
   "source": [
    "## 📁 Dataset Setup\n",
    "Download and prepare the FUNSD dataset."
   ]
  },
  {
   "cell_type": "code",
   "execution_count": null,
   "id": "77405b16",
   "metadata": {},
   "outputs": [],
   "source": [
    "# Download script or manual step\n",
    "# https://guillaumejaume.github.io/FUNSD/\n",
    "# unzip into data/ folder"
   ]
  },
  {
   "cell_type": "markdown",
   "id": "d73b6ec3",
   "metadata": {},
   "source": [
    "## 📚 Load and Inspect FUNSD Annotations"
   ]
  },
  {
   "cell_type": "code",
   "execution_count": null,
   "id": "5b39c175",
   "metadata": {},
   "outputs": [],
   "source": [
    "import json\n",
    "import os\n",
    "\n",
    "example_path = 'data/training_data/0000971160.json'\n",
    "with open(example_path) as f:\n",
    "    data = json.load(f)\n",
    "\n",
    "for item in data['form'][:2]:\n",
    "    print(item)"
   ]
  },
  {
   "cell_type": "markdown",
   "id": "bb10f0a2",
   "metadata": {},
   "source": [
    "## 🧾 Preprocess to HuggingFace Format"
   ]
  },
  {
   "cell_type": "code",
   "execution_count": null,
   "id": "4ead5eec",
   "metadata": {},
   "outputs": [],
   "source": [
    "from data_preprocessing import parse_funsd_json\n",
    "\n",
    "parsed = parse_funsd_json('data/training_data/0000971160.json')\n",
    "print(parsed['words'][:10])\n",
    "print(parsed['boxes'][:10])\n",
    "print(parsed['labels'][:10])"
   ]
  },
  {
   "cell_type": "markdown",
   "id": "da177ba9",
   "metadata": {},
   "source": [
    "## 🧠 Load LayoutLM and Tokenizer"
   ]
  },
  {
   "cell_type": "code",
   "execution_count": null,
   "id": "ad4ba46c",
   "metadata": {},
   "outputs": [],
   "source": [
    "from transformers import LayoutLMTokenizer, LayoutLMForTokenClassification\n",
    "\n",
    "tokenizer = LayoutLMTokenizer.from_pretrained('microsoft/layoutlm-base-uncased')\n",
    "model = LayoutLMForTokenClassification.from_pretrained('microsoft/layoutlm-base-uncased', num_labels=7)"
   ]
  },
  {
   "cell_type": "markdown",
   "id": "5ffe8448",
   "metadata": {},
   "source": [
    "## 📊 Load Multiple Examples with Dataset"
   ]
  },
  {
   "cell_type": "code",
   "execution_count": null,
   "id": "bd398bbb",
   "metadata": {},
   "outputs": [],
   "source": [
    "from layoutlm_dataset import FUNSDDataset\n",
    "import glob\n",
    "\n",
    "files = glob.glob('data/training_data/*.json')\n",
    "dataset = FUNSDDataset(files[:10])  # small subset for testing\n",
    "sample = dataset[0]\n",
    "print({k: v.shape for k, v in sample.items()})"
   ]
  },
  {
   "cell_type": "markdown",
   "id": "dd313d8d",
   "metadata": {},
   "source": [
    "## 🏋️ Fine-tune Model"
   ]
  },
  {
   "cell_type": "code",
   "execution_count": null,
   "id": "f05b1d5c",
   "metadata": {},
   "outputs": [],
   "source": [
    "from transformers import Trainer, TrainingArguments\n",
    "import numpy as np\n",
    "from seqeval.metrics import precision_score, recall_score, f1_score\n",
    "\n",
    "label_list = ['O', 'B-KEY', 'I-KEY', 'B-VALUE', 'I-VALUE', 'B-OTHER', 'I-OTHER']\n",
    "from transformers import default_data_collator\n",
    "\n",
    "def compute_metrics(p):\n",
    "    predictions, labels = p\n",
    "    predictions = np.argmax(predictions, axis=2)\n",
    "    true_predictions = [\n",
    "        [label_list[p] for (p, l) in zip(pred, lab) if l != -100]\n",
    "        for pred, lab in zip(predictions, labels)\n",
    "    ]\n",
    "    true_labels = [\n",
    "        [label_list[l] for (p, l) in zip(pred, lab) if l != -100]\n",
    "        for pred, lab in zip(predictions, labels)\n",
    "    ]\n",
    "    return {\n",
    "        \"precision\": precision_score(true_labels, true_predictions),\n",
    "        \"recall\": recall_score(true_labels, true_predictions),\n",
    "        \"f1\": f1_score(true_labels, true_predictions)\n",
    "    }\n",
    "\n",
    "training_args = TrainingArguments(\n",
    "    output_dir=\"outputs/layoutlm\",\n",
    "    per_device_train_batch_size=2,\n",
    "    per_device_eval_batch_size=2,\n",
    "    num_train_epochs=2,\n",
    "    logging_dir=\"outputs/logs\",\n",
    "    logging_steps=10,\n",
    "    evaluation_strategy=\"no\",\n",
    "    save_strategy=\"no\",\n",
    "    fp16=True,\n",
    "    report_to=\"none\",\n",
    ")\n",
    "\n",
    "trainer = Trainer(\n",
    "    model=model,\n",
    "    args=training_args,\n",
    "    train_dataset=dataset,\n",
    "    eval_dataset=None,\n",
    "    data_collator=default_data_collator,\n",
    "    compute_metrics=compute_metrics,\n",
    "    tokenizer=tokenizer,\n",
    ")\n",
    "\n",
    "# To train:\n",
    "# trainer.train()"
   ]
  },
  {
   "cell_type": "markdown",
   "id": "2c317f0a",
   "metadata": {},
   "source": [
    "## 🧪 Inference and Visualization"
   ]
  },
  {
   "cell_type": "code",
   "execution_count": null,
   "id": "52e5b270",
   "metadata": {},
   "outputs": [],
   "source": [
    "import layoutparser as lp\n",
    "import matplotlib.pyplot as plt\n",
    "import cv2\n",
    "import torch\n",
    "\n",
    "sample = dataset[0]\n",
    "input_ids = sample['input_ids'].unsqueeze(0)\n",
    "attention_mask = sample['attention_mask'].unsqueeze(0)\n",
    "bbox = sample['bbox'].unsqueeze(0)\n",
    "\n",
    "model.eval()\n",
    "with torch.no_grad():\n",
    "    outputs = model(input_ids=input_ids, attention_mask=attention_mask, bbox=bbox)\n",
    "    predictions = outputs.logits.argmax(-1).squeeze().tolist()\n",
    "\n",
    "img_path = 'data/images/0000971160.png'\n",
    "image = cv2.imread(img_path)\n",
    "image = cv2.cvtColor(image, cv2.COLOR_BGR2RGB)\n",
    "\n",
    "for box, pred in zip(sample['bbox'], predictions):\n",
    "    if pred != 0:\n",
    "        x0, y0, x1, y1 = box.tolist()\n",
    "        cv2.rectangle(image, (x0, y0), (x1, y1), (0, 255, 0), 1)\n",
    "        cv2.putText(image, label_list[pred], (x0, y0 - 2), cv2.FONT_HERSHEY_SIMPLEX, 0.4, (0, 255, 0), 1)\n",
    "\n",
    "plt.figure(figsize=(10, 10))\n",
    "plt.imshow(image)\n",
    "plt.axis('off')\n",
    "plt.title(\"Predicted Key-Value Labels\")\n",
    "plt.show()"
   ]
  }
 ],
 "metadata": {},
 "nbformat": 4,
 "nbformat_minor": 5
}
