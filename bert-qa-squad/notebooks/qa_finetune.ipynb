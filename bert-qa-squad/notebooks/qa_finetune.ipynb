{
 "cells": [
  {
   "cell_type": "markdown",
   "id": "09543a9b",
   "metadata": {},
   "source": [
    "# ❓ Fine-tune BERT on SQuAD v1.1\n",
    "\n",
    "This notebook demonstrates how to fine-tune `bert-base-uncased` on the SQuAD v1.1 dataset using HuggingFace Transformers."
   ]
  },
  {
   "cell_type": "markdown",
   "id": "a98c5ac0",
   "metadata": {},
   "source": [
    "## 📦 Install dependencies"
   ]
  },
  {
   "cell_type": "code",
   "execution_count": null,
   "id": "fe10eb0d",
   "metadata": {},
   "outputs": [],
   "source": [
    "!pip install transformers datasets scikit-learn tqdm"
   ]
  },
  {
   "cell_type": "markdown",
   "id": "ed51a254",
   "metadata": {},
   "source": [
    "## 📚 Load SQuAD dataset"
   ]
  },
  {
   "cell_type": "code",
   "execution_count": null,
   "id": "f80c6c78",
   "metadata": {},
   "outputs": [],
   "source": [
    "from datasets import load_dataset\n",
    "squad = load_dataset(\"squad\")\n",
    "squad[\"train\"][0]"
   ]
  },
  {
   "cell_type": "markdown",
   "id": "e3fa193e",
   "metadata": {},
   "source": [
    "## ✂️ Preprocessing: Tokenization and label alignment"
   ]
  },
  {
   "cell_type": "code",
   "execution_count": null,
   "id": "f7fbccbb",
   "metadata": {},
   "outputs": [],
   "source": [
    "from transformers import AutoTokenizer\n",
    "\n",
    "tokenizer = AutoTokenizer.from_pretrained(\"bert-base-uncased\")\n",
    "\n",
    "def preprocess(example):\n",
    "    questions = [q.strip() for q in example[\"question\"]]\n",
    "    inputs = tokenizer(\n",
    "        questions,\n",
    "        example[\"context\"],\n",
    "        truncation=\"only_second\",\n",
    "        max_length=384,\n",
    "        stride=128,\n",
    "        return_overflowing_tokens=True,\n",
    "        return_offsets_mapping=True,\n",
    "        padding=\"max_length\"\n",
    "    )\n",
    "\n",
    "    sample_mapping = inputs.pop(\"overflow_to_sample_mapping\")\n",
    "    offset_mapping = inputs.pop(\"offset_mapping\")\n",
    "\n",
    "    start_positions = []\n",
    "    end_positions = []\n",
    "\n",
    "    for i, offsets in enumerate(offset_mapping):\n",
    "        input_ids = inputs[\"input_ids\"][i]\n",
    "        cls_index = input_ids.index(tokenizer.cls_token_id)\n",
    "\n",
    "        sequence_ids = inputs.sequence_ids(i)\n",
    "        sample_index = sample_mapping[i]\n",
    "        answers = example[\"answers\"][sample_index]\n",
    "        if len(answers[\"answer_start\"]) == 0:\n",
    "            start_positions.append(cls_index)\n",
    "            end_positions.append(cls_index)\n",
    "        else:\n",
    "            start_char = answers[\"answer_start\"][0]\n",
    "            end_char = start_char + len(answers[\"text\"][0])\n",
    "            token_start_index = 0\n",
    "            while sequence_ids[token_start_index] != 1:\n",
    "                token_start_index += 1\n",
    "            token_end_index = len(input_ids) - 1\n",
    "            while sequence_ids[token_end_index] != 1:\n",
    "                token_end_index -= 1\n",
    "\n",
    "            if not (offsets[token_start_index][0] <= start_char and offsets[token_end_index][1] >= end_char):\n",
    "                start_positions.append(cls_index)\n",
    "                end_positions.append(cls_index)\n",
    "            else:\n",
    "                while token_start_index < len(offsets) and offsets[token_start_index][0] <= start_char:\n",
    "                    token_start_index += 1\n",
    "                start_positions.append(token_start_index - 1)\n",
    "\n",
    "                while token_end_index >= 0 and offsets[token_end_index][1] >= end_char:\n",
    "                    token_end_index -= 1\n",
    "                end_positions.append(token_end_index + 1)\n",
    "\n",
    "    inputs[\"start_positions\"] = start_positions\n",
    "    inputs[\"end_positions\"] = end_positions\n",
    "    return inputs\n",
    "\n",
    "tokenized_squad = squad.map(preprocess, batched=True, remove_columns=squad[\"train\"].column_names)\n"
   ]
  },
  {
   "cell_type": "markdown",
   "id": "6c46bf27",
   "metadata": {},
   "source": [
    "## 🏋️ Fine-tune BERT for QA"
   ]
  },
  {
   "cell_type": "code",
   "execution_count": null,
   "id": "7b965bb4",
   "metadata": {},
   "outputs": [],
   "source": [
    "from transformers import AutoModelForQuestionAnswering, TrainingArguments, Trainer\n",
    "\n",
    "model = AutoModelForQuestionAnswering.from_pretrained(\"bert-base-uncased\")\n",
    "\n",
    "args = TrainingArguments(\n",
    "    output_dir=\"./outputs/bert-qa\",\n",
    "    evaluation_strategy=\"epoch\",\n",
    "    learning_rate=2e-5,\n",
    "    per_device_train_batch_size=12,\n",
    "    per_device_eval_batch_size=12,\n",
    "    num_train_epochs=2,\n",
    "    weight_decay=0.01,\n",
    "    logging_steps=100,\n",
    "    save_total_limit=1,\n",
    ")\n",
    "\n",
    "trainer = Trainer(\n",
    "    model=model,\n",
    "    args=args,\n",
    "    train_dataset=tokenized_squad[\"train\"],\n",
    "    eval_dataset=tokenized_squad[\"validation\"],\n",
    "    tokenizer=tokenizer\n",
    ")\n",
    "\n",
    "trainer.train()\n"
   ]
  },
  {
   "cell_type": "markdown",
   "id": "e9579372",
   "metadata": {},
   "source": [
    "## 📊 Evaluate on validation set"
   ]
  },
  {
   "cell_type": "code",
   "execution_count": null,
   "id": "2677637e",
   "metadata": {},
   "outputs": [],
   "source": [
    "trainer.evaluate()"
   ]
  },
  {
   "cell_type": "markdown",
   "id": "06fca70e",
   "metadata": {},
   "source": [
    "## 🔍 Inference on a custom QA example"
   ]
  },
  {
   "cell_type": "code",
   "execution_count": null,
   "id": "e105c33c",
   "metadata": {},
   "outputs": [],
   "source": [
    "question = \"Where did Barack Obama grow up?\"\n",
    "context = \"Barack Obama was born in Hawaii and later lived in Indonesia before returning to Hawaii.\"\n",
    "\n",
    "inputs = tokenizer(question, context, return_tensors=\"pt\")\n",
    "outputs = model(**inputs)\n",
    "\n",
    "start = torch.argmax(outputs.start_logits)\n",
    "end = torch.argmax(outputs.end_logits) + 1\n",
    "answer = tokenizer.convert_tokens_to_string(tokenizer.convert_ids_to_tokens(inputs[\"input_ids\"][0][start:end]))\n",
    "\n",
    "print(f\"Answer: {answer}\")\n"
   ]
  }
 ],
 "metadata": {},
 "nbformat": 4,
 "nbformat_minor": 5
}
